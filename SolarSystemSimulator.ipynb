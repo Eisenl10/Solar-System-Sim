{
 "cells": [
  {
   "cell_type": "markdown",
   "metadata": {},
   "source": [
    "## Prepare and import necessary packages"
   ]
  },
  {
   "cell_type": "code",
   "execution_count": null,
   "metadata": {},
   "outputs": [],
   "source": [
    "%pip install numpy matplotlib seaborn --upgrade"
   ]
  },
  {
   "cell_type": "code",
   "execution_count": null,
   "metadata": {},
   "outputs": [],
   "source": [
    "%matplotlib inline\n",
    "import numpy as np\n",
    "import matplotlib.pyplot as plt\n",
    "import seaborn as sns\n",
    "import math "
   ]
  },
  {
   "cell_type": "markdown",
   "metadata": {},
   "source": [
    "## Data about the planets in the solar system"
   ]
  },
  {
   "cell_type": "code",
   "execution_count": null,
   "metadata": {},
   "outputs": [],
   "source": [
    "planets = {\n",
    "           'Mercury':\n",
    "           {'distance':0.39,'velocity':88/365,'mass':3.3e23},\n",
    "           'Venus':\n",
    "           {'distance':0.73,'velocity':225/365,'mass':4.9e24},\n",
    "           'Earth':\n",
    "           {'distance':1,'velocity':1,'mass':6e24},\n",
    "           'Mars':\n",
    "           {'distance':1.52,'velocity':687/365,'mass':6.6e23},\n",
    "           'Jupiter':\n",
    "           {'distance':5.2,'velocity':12,'mass':1.9e27},\n",
    "           'Saturn':\n",
    "           {'distance':9.54,'velocity':29.5,'mass':5.5e26},\n",
    "           'Uranus':\n",
    "           {'distance':19.19,'velocity':84,'mass':8.8e25},\n",
    "           'Neptune':\n",
    "           {'distance':30.06,'velocity':165,'mass':1.03e26},\n",
    "          }\n",
    "\n"
   ]
  },
  {
   "cell_type": "markdown",
   "metadata": {},
   "source": [
    "## Compute planetary positions as function of time"
   ]
  },
  {
   "cell_type": "code",
   "execution_count": null,
   "metadata": {},
   "outputs": [],
   "source": [
    "t_tot = 20   # simulation time in years; complete orbit of Neptune takes 165 years\n",
    "\n",
    "delta_t = .0001\n",
    "n_steps = int(t_tot/delta_t)\n",
    "n_planets = len(planets)\n",
    "\n",
    "# position and velocity of each planet\n",
    "pos = np.zeros((n_steps, n_planets, 2))\n",
    "vel = np.zeros_like(pos)\n",
    "\n",
    "# acceleration between planets (two iterations for velocity verlet method)\n",
    "a = np.zeros((2, n_planets, n_planets, 2))\n",
    "\n",
    "beta = 2.0  # exponent of energy potential\n",
    "\n",
    "pos[0,:,0] = np.array([p['distance'] for p in planets.values()])\n",
    "vel[0,:,1] = pos[0,:,0]*2*pi/np.array([p['velocity'] for p in planets.values()])\n",
    "\n",
    "# masses\n",
    "GM = (4*pi**2)/2e30 * np.array([p['mass'] for p in planets.values()])\n",
    "\n",
    "for t in range(n_steps-1):\n",
    "    for i in range(n_planets):\n",
    "        a[0,i,i] = -4*pi**2*pos[t,i] / np.linalg.norm(pos[t,i],\n",
    "                                                     axis = -1,\n",
    "                                                     keepdims= True)**(beta+1)\n",
    "        a[0,i+1:,i] = \\\n",
    "        a[0,i,i+1:] = -GM[i+1:].reshape(n_planets-i-1,1) \\\n",
    "                    * (pos[t,i+1:]-pos[t,i]) \\\n",
    "                    / np.linalg.norm(pos[t,i+1:]-pos[t,i],\n",
    "                                     axis = -1,\n",
    "                                     keepdims= True)**(beta+1)\n",
    "        \n",
    "        pos[t+1,i] = pos[t,i] + delta_t*vel[t,i] + delta_t**2/2 * np.sum(a[0,i])\n",
    "\n",
    "        a[1,i,i] = -4*pi**2*pos[t+1,i] / np.linalg.norm(pos[t+1,i],\n",
    "                                                       axis = -1,\n",
    "                                                       keepdims= True)**(beta+1)\n",
    "        a[1,i+1:,i] = \\\n",
    "        a[1,i,i+1:] = -GM[i+1:].reshape(n_planets-i-1,1) \\\n",
    "                    * (pos[t+1,i+1:]-pos[t+1,i]) \\\n",
    "                    / np.linalg.norm(pos[t+1,i+1:]-pos[t+1,i],\n",
    "                                     axis = -1,\n",
    "                                     keepdims= True)**(beta+1)\n",
    "        vel[t+1,i] = vel[t,i] + delta_t*np.sum(a[:,i], axis = (0,1))/2\n"
   ]
  },
  {
   "cell_type": "markdown",
   "metadata": {},
   "source": [
    "## Plot orbits"
   ]
  },
  {
   "cell_type": "code",
   "execution_count": null,
   "metadata": {},
   "outputs": [],
   "source": [
    "sns.set()\n",
    "\n",
    "radius = 2     # radius of observation (in AU)\n",
    "\n",
    "plt.figure(figsize = (10,10))\n",
    "for i,name in enumerate(planets):\n",
    "    \n",
    "    plt.plot(pos[:,i,0], pos[:,i,1], label = name)\n",
    "    plt.xlim((-radius,radius))\n",
    "    plt.ylim((-radius,radius))\n",
    "    plt.ylabel(\"y position / AU\")\n",
    "    plt.xlabel(\"x position / AU\")\n",
    "    plt.legend()\n",
    "    \n",
    "plt.show()"
   ]
  },
  {
   "cell_type": "code",
   "execution_count": null,
   "metadata": {},
   "outputs": [],
   "source": []
  }
 ],
 "metadata": {
  "kernelspec": {
   "display_name": "Python 3",
   "language": "python",
   "name": "python3"
  },
  "language_info": {
   "codemirror_mode": {
    "name": "ipython",
    "version": 3
   },
   "file_extension": ".py",
   "mimetype": "text/x-python",
   "name": "python",
   "nbconvert_exporter": "python",
   "pygments_lexer": "ipython3",
   "version": "3.7.3"
  }
 },
 "nbformat": 4,
 "nbformat_minor": 2
}
